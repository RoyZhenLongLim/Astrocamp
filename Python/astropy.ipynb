{
 "cells": [
  {
   "cell_type": "markdown",
   "id": "8749b361",
   "metadata": {
    "collapsed": true
   },
   "source": [
    "# Astropy\n",
    "Astropy is a package dedicated to Astronomy and Astrophysics."
   ]
  },
  {
   "cell_type": "code",
   "execution_count": null,
   "id": "269c6a6d",
   "metadata": {},
   "outputs": [],
   "source": [
    "import matplotlib.pyplot as plt"
   ]
  },
  {
   "cell_type": "markdown",
   "id": "769dce92",
   "metadata": {},
   "source": [
    "## Constants and Equations"
   ]
  },
  {
   "cell_type": "code",
   "execution_count": null,
   "id": "aba95aaf",
   "metadata": {},
   "outputs": [],
   "source": [
    "# Importing Essential Packages\n",
    "from astropy import constants as const # Universal Constants\n",
    "from astropy import units as u # Units (unit conversion)"
   ]
  },
  {
   "cell_type": "code",
   "execution_count": null,
   "id": "e9329677",
   "metadata": {},
   "outputs": [],
   "source": [
    "print(const.G)\n",
    "print('\\n')\n",
    "print(const.c)\n",
    "print('\\n')\n",
    "print(const.c.to('km/s'))"
   ]
  },
  {
   "cell_type": "markdown",
   "id": "552fdbd1",
   "metadata": {},
   "source": [
    "Recall that:\n",
    "$$\n",
    "    F = \\frac{GMm}{r^2}\n",
    "$$"
   ]
  },
  {
   "cell_type": "code",
   "execution_count": null,
   "id": "adfe03f5",
   "metadata": {},
   "outputs": [],
   "source": [
    "# Compute force due to gravity of Sun on Earth\n",
    "F = (const.G * const.M_sun * const.M_earth) / (const.au) ** 2 \n",
    "# Give force in Newtons\n",
    "print(F.to(u.N)) \n",
    "print(F) \n",
    "print(F.unit)"
   ]
  },
  {
   "cell_type": "code",
   "execution_count": null,
   "id": "92fffa41",
   "metadata": {},
   "outputs": [],
   "source": [
    "# We can assign types with multiplication\n",
    "list = [1, 2, 3]\n",
    "listInM = list * u.m\n",
    "print(listInM)\n",
    "print(listInM.unit)\n",
    "print(listInM.to(u.mm))"
   ]
  },
  {
   "cell_type": "markdown",
   "id": "886ef0dd",
   "metadata": {},
   "source": [
    "# TODO: Compute k\n",
    "Recall Kepler's Third Law of Planetary Motion:\n",
    "$$\n",
    "    \\frac{r^3}{T^2} = k\n",
    "$$\n",
    "Give your answer is `pc^3 / yr^2`"
   ]
  },
  {
   "cell_type": "code",
   "execution_count": null,
   "id": "ad28b5ad",
   "metadata": {},
   "outputs": [],
   "source": [
    "# Put your code here"
   ]
  },
  {
   "cell_type": "markdown",
   "id": "a4e9bcf6",
   "metadata": {},
   "source": [
    "## Reading & Writing File\n",
    ".fits files are a common way to store data in astronomy"
   ]
  },
  {
   "cell_type": "code",
   "execution_count": null,
   "id": "11091a1c",
   "metadata": {},
   "outputs": [],
   "source": [
    "# Importing Essential Packages\n",
    "from astropy.table import Table # Astropy works with .fits files"
   ]
  },
  {
   "cell_type": "code",
   "execution_count": null,
   "id": "5bddd727",
   "metadata": {},
   "outputs": [],
   "source": [
    "glh = Table.read(\"data/galah_dr4_trimmed.fits\", format=\"fits\", hdu=1)\n",
    "glhxlim"
   ]
  },
  {
   "cell_type": "code",
   "execution_count": null,
   "id": "fb284993",
   "metadata": {},
   "outputs": [],
   "source": [
    "# Write the data\n",
    "glh.write('data/galah_dr4_trimmed_new.fits', format='fits')"
   ]
  },
  {
   "cell_type": "code",
   "execution_count": null,
   "id": "9718b9fb",
   "metadata": {},
   "outputs": [],
   "source": [
    "glh.colnames"
   ]
  },
  {
   "cell_type": "code",
   "execution_count": null,
   "id": "be7bdf85",
   "metadata": {},
   "outputs": [],
   "source": [
    "plt.plot(glh['teff'], glh['logg'], 'x', markersize=0.2)\n",
    "\n",
    "plt.title(\"HR Diagram\")\n",
    "plt.xlabel(\"teff\")\n",
    "plt.ylabel(\"logg\")\n",
    "plt.gca().invert_yaxis()\n",
    "plt.gca().invert_xaxis()"
   ]
  },
  {
   "cell_type": "markdown",
   "id": "6011e8e0",
   "metadata": {},
   "source": [
    "## Models & Fitting"
   ]
  },
  {
   "cell_type": "code",
   "execution_count": null,
   "id": "e2995f9a",
   "metadata": {},
   "outputs": [],
   "source": [
    "import numpy as np\n",
    "from astropy.modeling import models, fitting"
   ]
  },
  {
   "cell_type": "code",
   "execution_count": null,
   "id": "89cc59e1",
   "metadata": {},
   "outputs": [],
   "source": [
    "# Fitting a Gaussian to existing data\n",
    "tmp = glh[glh['logg'] < 3]\n",
    "plt.plot(tmp['teff'], tmp['logg'], 'x', markersize=0.2)\n",
    "\n",
    "plt.title(\"HR Diagram\")\n",
    "plt.xlabel(\"teff\")\n",
    "plt.ylabel(\"logg\")\n",
    "plt.gca().invert_yaxis()\n",
    "plt.gca().invert_xaxis()"
   ]
  },
  {
   "cell_type": "code",
   "execution_count": null,
   "id": "1826c920",
   "metadata": {},
   "outputs": [],
   "source": [
    "# Line of Best Fit\n",
    "model = models.Linear1D()\n",
    "fitter = fitting.LinearLSQFitter()\n",
    "best_fit = fitter(model, tmp['teff'], tmp['logg'])\n",
    "print(best_fit)"
   ]
  },
  {
   "cell_type": "code",
   "execution_count": null,
   "id": "4e985a1e",
   "metadata": {},
   "outputs": [],
   "source": [
    "plt.plot(tmp['teff'], tmp['logg'], 'x', markersize=0.2)\n",
    "plt.plot(tmp['teff'], best_fit(tmp['teff']))\n",
    "\n",
    "plt.title(\"HR Diagram\")\n",
    "plt.xlabel(\"teff\")\n",
    "plt.ylabel(\"logg\")\n",
    "plt.gca().invert_yaxis()\n",
    "plt.gca().invert_xaxis()"
   ]
  },
  {
   "cell_type": "code",
   "execution_count": null,
   "id": "8f90a45e",
   "metadata": {},
   "outputs": [],
   "source": [
    "# Polynomial of Best Fit\n",
    "odel_poly = models.Polynomial1D(degree=3)\n",
    "fitter_poly = fitting.LinearLSQFitter() \n",
    "best_fit_poly = fitter_poly(odel_poly, tmp['teff'], tmp['logg'])\n",
    "print(best_fit_poly)"
   ]
  },
  {
   "cell_type": "code",
   "execution_count": null,
   "id": "94b76284",
   "metadata": {},
   "outputs": [],
   "source": [
    "plt.plot(tmp['teff'], tmp['logg'], 'x', markersize=0.2)\n",
    "plt.plot(tmp['teff'], best_fit_poly(tmp['teff']), 'r+')\n",
    "\n",
    "plt.title(\"HR Diagram\")\n",
    "plt.xlabel(\"teff\")\n",
    "plt.ylabel(\"logg\")\n",
    "plt.gca().invert_yaxis()\n",
    "plt.gca().invert_xaxis()"
   ]
  },
  {
   "cell_type": "code",
   "execution_count": null,
   "id": "cbe6fcf9",
   "metadata": {},
   "outputs": [],
   "source": [
    "# Gaussian\n",
    "mu, sigma, amplitude = 0.0, 10.0, 10.0\n",
    "N = 100\n",
    "x = np.linspace(-30, 30, N)\n",
    "y = amplitude * np.exp(-(x-mu)**2 / (2*sigma**2))\n",
    "y = np.array([y_point + np.random.normal(0, 1) for y_point in y])   #Another way to add random gaussian noise\n",
    "sigma = 1"
   ]
  },
  {
   "cell_type": "code",
   "execution_count": null,
   "id": "17221533",
   "metadata": {},
   "outputs": [],
   "source": [
    "model_gauss = models.Gaussian1D()\n",
    "fitter_gauss = fitting.LevMarLSQFitter()\n",
    "best_fit_gauss = fitter_gauss(model_gauss, x, y)\n",
    "\n",
    "plt.plot(x, y, 'r+')\n",
    "plt.plot(x, best_fit_gauss(x), 'g-', linewidth=1, label='astropy.modeling')\n",
    "plt.xlabel('$x$')\n",
    "plt.ylabel('$y$')\n",
    "plt.legend()"
   ]
  },
  {
   "cell_type": "markdown",
   "id": "2dac50bc",
   "metadata": {},
   "source": [
    "# TODO: Try to fit x and y with a polynomial regressor"
   ]
  },
  {
   "cell_type": "code",
   "execution_count": null,
   "id": "e0bc6522",
   "metadata": {},
   "outputs": [],
   "source": [
    "# Put your code here"
   ]
  },
  {
   "cell_type": "markdown",
   "id": "6b712d88",
   "metadata": {},
   "source": [
    "## Bonus Astropy Functionality Worth Exploring\n",
    "- Look into Chi-squared Test for assessing fit\n",
    "    - Need to include uncertainty as an additonal parameter"
   ]
  },
  {
   "cell_type": "markdown",
   "id": "2277946a",
   "metadata": {},
   "source": [
    "# Gala \n",
    "Gala is used to explore the orbits of Stars\n",
    "This guide is based on: [Computing Galactic Orbits of Stars with Gala](https://learn.astropy.org/tutorials/gaia-galactic-orbits.html)"
   ]
  },
  {
   "cell_type": "code",
   "execution_count": null,
   "id": "0a7d10d5",
   "metadata": {},
   "outputs": [],
   "source": [
    "# Importing Essential Packages\n",
    "from astropy.table import Table # Astropy works with .fits files\n",
    "import matplotlib.pyplot as plt \n",
    "from astropy import units as u # Units (unit conversion)"
   ]
  },
  {
   "cell_type": "code",
   "execution_count": null,
   "id": "b2bf55a1",
   "metadata": {},
   "outputs": [],
   "source": [
    "# 4096 random stars within 100 pc (or with a parallax > 10 mas) of the Sun\n",
    "gaia_data = Table.read(\"data/gaia_data.fits\", format=\"fits\", hdu=1)"
   ]
  },
  {
   "cell_type": "code",
   "execution_count": null,
   "id": "eb21b95d",
   "metadata": {},
   "outputs": [],
   "source": [
    "gaia_data"
   ]
  },
  {
   "cell_type": "code",
   "execution_count": null,
   "id": "055ab750",
   "metadata": {},
   "outputs": [],
   "source": [
    "# Position of stars\n",
    "plt.plot(gaia_data['ra'], gaia_data['dec'], 'r+')"
   ]
  },
  {
   "cell_type": "code",
   "execution_count": null,
   "id": "84cd2cd9",
   "metadata": {},
   "outputs": [],
   "source": [
    "# Velocity + Radial Velocity of Stars\n",
    "plt.scatter(gaia_data['pmra'], gaia_data['pmdec'], c=gaia_data['radial_velocity'], marker='x', cmap=plt.cm.inferno, s=1)\n",
    "cbar = plt.colorbar()\n",
    "plt.xlabel(\"Proper Motion: Right Ascension\")\n",
    "plt.ylabel(\"Proper Motion: Declination\")\n",
    "cbar.set_label(\"Radial Velocity\")"
   ]
  },
  {
   "cell_type": "markdown",
   "id": "95b83d6c",
   "metadata": {},
   "source": [
    "## Determine Galactic Stellar Orbits with Gala\n",
    "### Converting Data Into Correct Coordinates"
   ]
  },
  {
   "cell_type": "code",
   "execution_count": null,
   "id": "7d091785",
   "metadata": {},
   "outputs": [],
   "source": [
    "# Import Essential Packages\n",
    "import gala.potential as gp\n",
    "import gala.dynamics as gd\n",
    "import astropy.coordinates as coord\n",
    "import numpy as np"
   ]
  },
  {
   "cell_type": "code",
   "execution_count": null,
   "id": "260e75eb",
   "metadata": {},
   "outputs": [],
   "source": [
    "dist = coord.Distance(parallax=u.Quantity(gaia_data['parallax']))\n",
    "# Furthest and closest star\n",
    "dist.min(), dist.max()"
   ]
  },
  {
   "cell_type": "code",
   "execution_count": null,
   "id": "3203a293",
   "metadata": {},
   "outputs": [],
   "source": [
    "# Converts helocentric, spherical values to Galatocentric, Cartesian values\n",
    "c = coord.SkyCoord(ra=gaia_data['ra'], \n",
    "                   dec=gaia_data['dec'],\n",
    "                   distance=dist,\n",
    "                   pm_ra_cosdec=gaia_data['pmra'], \n",
    "                   pm_dec=gaia_data['pmdec'],\n",
    "                   radial_velocity=gaia_data['radial_velocity'])"
   ]
  },
  {
   "cell_type": "code",
   "execution_count": null,
   "id": "bbfffdc5",
   "metadata": {
    "scrolled": true
   },
   "outputs": [],
   "source": [
    "# Gets the parameters that we need to shift c by\n",
    "coord.Galactocentric()"
   ]
  },
  {
   "cell_type": "code",
   "execution_count": null,
   "id": "978eb2cb",
   "metadata": {},
   "outputs": [],
   "source": [
    "# c is coordinates centered about centre of the Solar System\n",
    "# transform moves to be at the centre of the Milkway\n",
    "galcen = c.transform_to(coord.Galactocentric(z_sun=0*u.pc, galcen_distance=8.1*u.kpc))"
   ]
  },
  {
   "cell_type": "code",
   "execution_count": null,
   "id": "b6511f0e",
   "metadata": {},
   "outputs": [],
   "source": [
    "plt.plot(galcen.v_x.value, galcen.v_y.value, marker='.', linestyle='none', alpha=0.5)\n",
    "\n",
    "plt.xlim(-125, 125)\n",
    "plt.ylim(200-125, 200+125)\n",
    "\n",
    "\n",
    "plt.xlabel('$v_x$ [{0:latex_inline}]'.format(u.km/u.s))\n",
    "plt.ylabel('$v_y$ [{0:latex_inline}]'.format(u.km/u.s))"
   ]
  },
  {
   "cell_type": "markdown",
   "id": "d3fb0e61",
   "metadata": {},
   "source": [
    "### Integrate Galactic Orbits"
   ]
  },
  {
   "cell_type": "code",
   "execution_count": null,
   "id": "8988ea93",
   "metadata": {},
   "outputs": [],
   "source": [
    "milky_way = gp.MilkyWayPotential()\n",
    "milky_way\n",
    "# We can could use a different disk mass to compute \n",
    "# different_disk_potential = gp.MilkyWayPotential(disk=dict(m=8e10*u.Msun))\n",
    "# different_disk_potential"
   ]
  },
  {
   "cell_type": "code",
   "execution_count": null,
   "id": "951ee755",
   "metadata": {},
   "outputs": [],
   "source": [
    "H = gp.Hamiltonian(milky_way)"
   ]
  },
  {
   "cell_type": "code",
   "execution_count": null,
   "id": "730d6e4c",
   "metadata": {},
   "outputs": [],
   "source": [
    "# Integrate orbits with H.integrate_orbit\n",
    "# Compute where the star lies on Phase Space Diagram\n",
    "w0 = gd.PhaseSpacePosition(galcen.cartesian)\n",
    "# Determine Orbit using Hamiltonian (increment by 1 Mega-Years, between 0 and 500 Mega-years)\n",
    "orbit = H.integrate_orbit(w0, dt=1*u.Myr, t1=0*u.Myr, t2=500*u.Myr)"
   ]
  },
  {
   "cell_type": "code",
   "execution_count": null,
   "id": "8f64d6d6",
   "metadata": {},
   "outputs": [],
   "source": [
    "orbit.shape\n",
    "# 500 rows (each star has 500 simulated phase space position)\n",
    "# 4096 columns (each star has a column)"
   ]
  },
  {
   "cell_type": "code",
   "execution_count": null,
   "id": "de68f3ef",
   "metadata": {},
   "outputs": [],
   "source": [
    "# Orbital Parameters\n",
    "E = orbit.energy()\n",
    "L = orbit.angular_momentum()\n",
    "L.shape\n",
    "# Shape represents (cartesian coordinates e.g. x, y, z, #simulations, which star)"
   ]
  },
  {
   "cell_type": "code",
   "execution_count": null,
   "id": "64a5cdd9",
   "metadata": {},
   "outputs": [],
   "source": [
    "# Energy of the first star in each simulation step\n",
    "E[:, 0]"
   ]
  },
  {
   "cell_type": "code",
   "execution_count": null,
   "id": "e650d3a0",
   "metadata": {},
   "outputs": [],
   "source": [
    "# Angular Momentum in each simulation step\n",
    "L[0, :, 0] # x direction\n",
    "L[1, :, 0] # y direction\n",
    "L[2, :, 0] # z direction"
   ]
  },
  {
   "cell_type": "code",
   "execution_count": null,
   "id": "4d4895a1",
   "metadata": {},
   "outputs": [],
   "source": [
    "# If your Juypter Notebook shows [ * ], it means the kernel is busy, give it a few seconds :)\n",
    "orbit[:, 0].plot() # [row, col], [:, 0] = get all rows in first column"
   ]
  },
  {
   "cell_type": "code",
   "execution_count": null,
   "id": "ea453530",
   "metadata": {},
   "outputs": [],
   "source": [
    "orbit[:, 0].cylindrical.plot(['rho', 'z'])"
   ]
  },
  {
   "cell_type": "markdown",
   "id": "4496e1b4",
   "metadata": {},
   "source": [
    "# TODO: Graph the orbit of another star \n",
    "- Note each star is a column in orbit\n",
    "   - Plot x vs y \n",
    "   - Plot rho vs z\n",
    "\n",
    "Read the [documentation](http://gala.adrian.pw/en/latest/tutorials.html)"
   ]
  }
 ],
 "metadata": {
  "kernelspec": {
   "display_name": "Python 3 (ipykernel)",
   "language": "python",
   "name": "python3"
  },
  "language_info": {
   "codemirror_mode": {
    "name": "ipython",
    "version": 3
   },
   "file_extension": ".py",
   "mimetype": "text/x-python",
   "name": "python",
   "nbconvert_exporter": "python",
   "pygments_lexer": "ipython3",
   "version": "3.10.12"
  }
 },
 "nbformat": 4,
 "nbformat_minor": 5
}
