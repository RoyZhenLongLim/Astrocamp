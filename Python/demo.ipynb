{
 "cells": [
  {
   "cell_type": "markdown",
   "id": "69d19ff4c52e50b",
   "metadata": {},
   "source": [
    "# Introduction to Python And Juypter Notebooks"
   ]
  },
  {
   "cell_type": "markdown",
   "id": "21f8b0c2",
   "metadata": {},
   "source": [
    "## Introduction to Juypter Notebooks\n",
    "There are two modes (edit mode and command mode)\n",
    "- Press `esc` to enter command mode\n",
    "- Press `enter` to enter enter mode\n",
    "- Press `B` in edit mode to add a cell\n",
    "    - Press `Y` to change cell to code cell\n",
    "    - Press `M` to change cell to markdown cell\n",
    "- Press `DD` to delete cell\n",
    "- Press `ctrl + enter` to run cell\n",
    "\n",
    "This guide has more info [juypter notebook shortcuts](https://towardsdatascience.com/jypyter-notebook-shortcuts-bf0101a98330)"
   ]
  },
  {
   "cell_type": "markdown",
   "id": "e4c03958",
   "metadata": {},
   "source": [
    "# Introduction to Markdown\n",
    "Markdown is used to annotate your code and provide more information.\n",
    "There aren't strictly required but are helpful for documenting your progress.\n",
    "\n",
    "Her are some useful markdown \n",
    "\n",
    "```verbatim\n",
    "# Heading 1\n",
    "## Heading 2\n",
    "\n",
    "List\n",
    "- Ele 1 \n",
    "- Ele 2\n",
    "    - Ele 2.1\n",
    "- Ele 1\n",
    "\n",
    "Links  \n",
    "[Name of Link](Link)\n",
    "\n",
    "Styling for Code  \n",
    "`variable/code`\n",
    "```\n",
    "\n",
    "P.S. Notice that we need two spaces to create a new line  \n",
    "The code above will generate the following below:\n",
    "\n",
    "# Heading 1\n",
    "## Heading 2\n",
    "\n",
    "List\n",
    "- Ele 1 \n",
    "- Ele 2\n",
    "    - Ele 2.1\n",
    "- Ele 1\n",
    "\n",
    "Links  \n",
    "[Name of Link](Link)\n",
    "\n",
    "Styling for Code  \n",
    "\n",
    "`variable/code`\n",
    "\n",
    "This guide has more information on markdown syntax [markdown guide](https://www.markdownguide.org/basic-syntax/)"
   ]
  },
  {
   "cell_type": "markdown",
   "id": "8f1f0c22",
   "metadata": {},
   "source": [
    "# **TODO: Write some markdown in this cell with details about your research project**"
   ]
  },
  {
   "cell_type": "markdown",
   "id": "894d6ee5",
   "metadata": {},
   "source": [
    "# Why Python?\n",
    "\n",
    "Python is a general purpose programming language used for data science.\n",
    "Juypter Notebooks allows Python to be ran in distinct blocks"
   ]
  },
  {
   "cell_type": "markdown",
   "id": "dbf3d6b9",
   "metadata": {},
   "source": [
    "Brief overview of Python features\n",
    "```python\n",
    "a = True\n",
    "b = False\n",
    "a & b # true AND false = false\n",
    "a | b # true OR false = true\n",
    "a == b # true equals false = false\n",
    "```"
   ]
  },
  {
   "cell_type": "code",
   "execution_count": null,
   "id": "e76aa6d8",
   "metadata": {},
   "outputs": [],
   "source": [
    "a = True\n",
    "b = False\n",
    "a & b # true AND false = false"
   ]
  },
  {
   "cell_type": "code",
   "execution_count": null,
   "id": "ce26cfa7",
   "metadata": {},
   "outputs": [],
   "source": [
    "# If Statements\n",
    "variable = 50\n",
    "if (variable > 10):\n",
    "    print('greater than 10')\n",
    "else:\n",
    "    print('less than 10')\n",
    "        "
   ]
  },
  {
   "cell_type": "code",
   "execution_count": null,
   "id": "e98845d0",
   "metadata": {},
   "outputs": [],
   "source": [
    "# i is [0, 5)\n",
    "for i in range(0, 5):\n",
    "    print(i)"
   ]
  },
  {
   "cell_type": "code",
   "execution_count": null,
   "id": "c7f9776e",
   "metadata": {},
   "outputs": [],
   "source": [
    "list = ['math', 'physics', 'astronomy','chemistry', 'biology', 'astrology', 'alchemy']\n",
    "for ele in list:\n",
    "    print(ele)"
   ]
  },
  {
   "cell_type": "code",
   "execution_count": null,
   "id": "ad8b5e6d",
   "metadata": {},
   "outputs": [],
   "source": [
    "for index, ele in enumerate(list):\n",
    "    print(index, ele)"
   ]
  },
  {
   "cell_type": "markdown",
   "id": "111ac96b",
   "metadata": {},
   "source": [
    "# TODO: Create a loop that plays the game fizzbuzz\n",
    "- If number is divisble by 3, print fizz\n",
    "- If number is divisible by 5, print buzz\n",
    "- If number is divisible by both, print fizzbuzz (one line)\n",
    "- Otherwise, print the number\n",
    "\n",
    "Here is an example\n",
    "```text\n",
    "1\n",
    "2 \n",
    "fizz\n",
    "4\n",
    "Buzz\n",
    "Fizz \n",
    "7\n",
    "8\n",
    "Fizz\n",
    "Buzz\n",
    "11\n",
    "Fizz\n",
    "13 \n",
    "14 \n",
    "FizzBuzz\n",
    "16\n",
    "17\n",
    "Fizz\n",
    "19\n",
    "Buzz\n",
    "```"
   ]
  },
  {
   "cell_type": "code",
   "execution_count": null,
   "id": "6190183d",
   "metadata": {},
   "outputs": [],
   "source": [
    "# Put your code here"
   ]
  },
  {
   "cell_type": "markdown",
   "id": "82731a8163a69f10",
   "metadata": {},
   "source": [
    "## Importing Data\n",
    "Lets start off with analysis some data that I used in my project "
   ]
  },
  {
   "cell_type": "code",
   "execution_count": null,
   "id": "ac7e05f881144107",
   "metadata": {
    "ExecuteTime": {
     "end_time": "2023-08-29T00:09:56.628831467Z",
     "start_time": "2023-08-29T00:09:55.849307678Z"
    }
   },
   "outputs": [],
   "source": [
    "# Importing relevant packages that I will use\n",
    "import pandas as pd # Data Analytic Library\n",
    "import matplotlib.pyplot as plt # Data Visualiation Library\n",
    "import numpy as np # Package for mathematical computing\n",
    "from astropy.table import Table # Astropy works with .fits files"
   ]
  },
  {
   "cell_type": "markdown",
   "id": "7854168bff0aa1dd",
   "metadata": {},
   "source": [
    "Import a fits file and converting it to Pandas data frame\n",
    "- I am using a trimmed down version of Galah Data Release 4 \n",
    "- More information on this can be found on the [galah-survey](https://www.galah-survey.org/dr3/using_the_data/#recommended-columns) website"
   ]
  },
  {
   "cell_type": "code",
   "execution_count": null,
   "id": "aa1744ae2d4c6bd3",
   "metadata": {
    "ExecuteTime": {
     "end_time": "2023-08-29T00:09:57.241461215Z",
     "start_time": "2023-08-29T00:09:57.015339166Z"
    }
   },
   "outputs": [],
   "source": [
    "# Imports the data that we will be using\n",
    "glh = Table.read(\"data/galah_dr4_trimmed.fits\", format=\"fits\", hdu=1)\n",
    "names = [name for name in glh.colnames if len(glh[name].shape) <= 1]\n",
    "glh = glh[names].to_pandas()"
   ]
  },
  {
   "cell_type": "code",
   "execution_count": null,
   "id": "63740970",
   "metadata": {},
   "outputs": [],
   "source": [
    "# Shows the first few elements of your dataset\n",
    "glh.head()"
   ]
  },
  {
   "cell_type": "code",
   "execution_count": null,
   "id": "25bef48b0029057a",
   "metadata": {
    "ExecuteTime": {
     "end_time": "2023-08-29T00:09:58.469701611Z",
     "start_time": "2023-08-29T00:09:58.400996979Z"
    }
   },
   "outputs": [],
   "source": [
    "# Provides an overview of the dataset\n",
    "glh"
   ]
  },
  {
   "cell_type": "code",
   "execution_count": null,
   "id": "e960c8d838f55f9c",
   "metadata": {
    "ExecuteTime": {
     "end_time": "2023-08-29T00:10:03.736651962Z",
     "start_time": "2023-08-29T00:10:03.730043689Z"
    }
   },
   "outputs": [],
   "source": [
    "glh.columns.values"
   ]
  },
  {
   "cell_type": "markdown",
   "id": "c7765230",
   "metadata": {},
   "source": [
    "### Indexing and Accessing Data"
   ]
  },
  {
   "cell_type": "code",
   "execution_count": null,
   "id": "ce41bd11",
   "metadata": {},
   "outputs": [],
   "source": [
    "# We can access a specific columns by using brackets and then specifying the columns like so:\n",
    "glh['tmass_id']\n",
    "glh.tmass_id"
   ]
  },
  {
   "cell_type": "code",
   "execution_count": null,
   "id": "260e541a",
   "metadata": {},
   "outputs": [],
   "source": [
    "# We can access multiple columns by using a list [...]\n",
    "glh[['tmass_id', 'ra', 'dec']]"
   ]
  },
  {
   "cell_type": "code",
   "execution_count": null,
   "id": "00a93755",
   "metadata": {},
   "outputs": [],
   "source": [
    "# Conditional Filtering \n",
    "glh[(glh.ra > 0) & (glh.dec < 0)]"
   ]
  },
  {
   "cell_type": "markdown",
   "id": "aeb93e23",
   "metadata": {},
   "source": [
    "# TODO: Figure out how many stars have a metallicity more than 0\n",
    "Recall metallicity is $$ \\Big[ \\frac{Fe}{H} \\Big]$$"
   ]
  },
  {
   "cell_type": "code",
   "execution_count": null,
   "id": "389ab7ae",
   "metadata": {},
   "outputs": [],
   "source": [
    "# Put your code in this cell"
   ]
  },
  {
   "cell_type": "markdown",
   "id": "409c02e9",
   "metadata": {},
   "source": [
    "# TODO: Filter out stars with the following flags\n",
    "Flags indicate there may be data that is not reliable. (Bitmasks are used if you are curious)\n",
    "These flags should be checked\n",
    "- `flag_sp` to 0\n",
    "- `flag_fe_h` to 0\n",
    "- `flag_x_fe` to 0 (find an element `x` that you are interested and check if there is a flag to remove)\n",
    "- `snr_c3_iraf` should be greater than 30"
   ]
  },
  {
   "cell_type": "code",
   "execution_count": null,
   "id": "3d1596df",
   "metadata": {},
   "outputs": [],
   "source": [
    "# Put your code in this cell"
   ]
  },
  {
   "cell_type": "markdown",
   "id": "23473b28",
   "metadata": {},
   "source": [
    "### Editing Data\n",
    "We can add columns to our data by computing using the rest of the columns  \n",
    "Recall that:\n",
    "$$ \\Big[\\frac{C}{N}\\Big] = \\Big[\\frac{C}{Fe}\\Big] - \\Big[\\frac{N}{Fe}\\Big] $$"
   ]
  },
  {
   "cell_type": "code",
   "execution_count": null,
   "id": "b0bbacc2",
   "metadata": {},
   "outputs": [],
   "source": [
    "# Define Relative Abundance of C/N\n",
    "glh['c_n'] = glh.c_fe - glh.n_fe"
   ]
  },
  {
   "cell_type": "code",
   "execution_count": null,
   "id": "00bd17a5",
   "metadata": {},
   "outputs": [],
   "source": [
    "glh.c_n"
   ]
  },
  {
   "cell_type": "markdown",
   "id": "b4d80a5b",
   "metadata": {},
   "source": [
    "### Graphing Data with Matploblib\n",
    "You can right click to save to .png format to include in your report"
   ]
  },
  {
   "cell_type": "code",
   "execution_count": null,
   "id": "96cdfa4c",
   "metadata": {},
   "outputs": [],
   "source": [
    "# Scatterplot\n",
    "# plt.plot(x, y, additional options)\n",
    "plt.plot(\n",
    "    glh.dec, \n",
    "    glh.ra, \n",
    "    'x',\n",
    "    markersize=2,\n",
    "    color='red'\n",
    ") # Graph each of the data with an x\n",
    "plt.xlabel(\"dec\")\n",
    "plt.ylabel(\"rec\")\n",
    "plt.xlim(-90, 30) # Change the x axis \n",
    "plt.ylim(-10, 250) # Change the y-axis\n",
    "plt.title(\"Position of Stars\")"
   ]
  },
  {
   "cell_type": "code",
   "execution_count": null,
   "id": "5b05b147",
   "metadata": {},
   "outputs": [],
   "source": [
    "# Histogram \n",
    "counts, bins = np.histogram(glh.teff.dropna()) # Not I have removed any NaN, i.e. not-a-number\n",
    "plt.stairs(counts, bins)\n",
    "plt.title(\"Effective Temperature of Stars\")"
   ]
  },
  {
   "cell_type": "markdown",
   "id": "8f36696f",
   "metadata": {},
   "source": [
    "# TODO: Graph Effective Temperature vs Surface Gravity\n",
    "Try to find the main sequence stars graphically  \n",
    "After that, save your graph as .png"
   ]
  },
  {
   "cell_type": "code",
   "execution_count": 104,
   "id": "dd32203c",
   "metadata": {},
   "outputs": [],
   "source": [
    "# Put your code here"
   ]
  },
  {
   "cell_type": "markdown",
   "id": "4c17c960",
   "metadata": {},
   "source": [
    "### Export and Importing Data"
   ]
  },
  {
   "cell_type": "code",
   "execution_count": null,
   "id": "4ca0981b",
   "metadata": {},
   "outputs": [],
   "source": [
    "head = glh.head()\n",
    "head"
   ]
  },
  {
   "cell_type": "code",
   "execution_count": null,
   "id": "e954d111",
   "metadata": {},
   "outputs": [],
   "source": [
    "head.to_csv('data/test.csv', index=False)"
   ]
  },
  {
   "cell_type": "code",
   "execution_count": null,
   "id": "86609697",
   "metadata": {},
   "outputs": [],
   "source": [
    "new_head = pd.read_csv('data/test.csv')\n",
    "new_head"
   ]
  },
  {
   "cell_type": "markdown",
   "id": "b29c6bde",
   "metadata": {},
   "source": [
    "### Exporting LaTeX Tabl;es\n",
    "We can export tables for use in LaTeX to use in your reports"
   ]
  },
  {
   "cell_type": "code",
   "execution_count": null,
   "id": "e76f3154",
   "metadata": {},
   "outputs": [],
   "source": [
    "glh.head()[['tmass_id', 'ra', 'dec']]"
   ]
  },
  {
   "cell_type": "code",
   "execution_count": null,
   "id": "ffc990f3",
   "metadata": {},
   "outputs": [],
   "source": [
    "glh.head()[['tmass_id', 'ra', 'dec']].to_latex(index=False)"
   ]
  },
  {
   "cell_type": "markdown",
   "id": "9bc7070f",
   "metadata": {},
   "source": [
    "# Advice for Coding\n",
    "- Name your variables something sensible\n",
    "    - variables names like `a` is short and easy to type but won't mean much to someone else\n",
    "    - instead, try giving more descriptive names or abbreviations e.g. `glh` is an abbreviation for Galah\n",
    "- Version Control\n",
    "    - Make sure to save your data periodically\n",
    "    - You don't want to have to redo hours of work if you mess something up\n",
    "- Project Structure\n",
    "    - Make sure to include folders and sub-folders\n",
    "        - A folder for processed data vs raw data\n",
    "        - Have a folder for figures  \n",
    "    - Make different Juypter Notebooks for different purposes (e.g. 1 for data cleaning, one for ML etc)\n",
    "- Coding \n",
    "    - Google is your friend\n",
    "    - Reading documentation for 5 minutes is probably better than 1hr of trial and error\n",
    "    - Research as you go\n",
    " \n",
    "# Task\n",
    "- Get started with your project\n",
    "   - Create a new Juypter Notebook and import the data\n",
    "   - Figure out what type of data you are working with\n",
    "   - Graph some data to see if you can find any relationships"
   ]
  }
 ],
 "metadata": {
  "kernelspec": {
   "display_name": "Python 3 (ipykernel)",
   "language": "python",
   "name": "python3"
  },
  "language_info": {
   "codemirror_mode": {
    "name": "ipython",
    "version": 3
   },
   "file_extension": ".py",
   "mimetype": "text/x-python",
   "name": "python",
   "nbconvert_exporter": "python",
   "pygments_lexer": "ipython3",
   "version": "3.10.12"
  }
 },
 "nbformat": 4,
 "nbformat_minor": 5
}
