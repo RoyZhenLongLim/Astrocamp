{
 "cells": [
  {
   "cell_type": "markdown",
   "id": "69d19ff4c52e50b",
   "metadata": {},
   "source": [
    "# Introduction to Python And Juypter Notebooks"
   ]
  },
  {
   "cell_type": "markdown",
   "id": "21f8b0c2",
   "metadata": {},
   "source": [
    "## Introduction to Juypter Notebooks\n",
    "There are two modes (edit mode and command mode)\n",
    "- Press `esc` to enter command mode\n",
    "- Press `enter` to enter enter mode\n",
    "- Press `B` in edit mode to add a cell\n",
    "    - Press `Y` to change cell to code cell\n",
    "    - Press `M` to change cell to markdown cell\n",
    "- Press `DD` to delete cell\n",
    "- Press `X` and `V` in command mode for copy and paste \n",
    "- Press `ctrl + enter` to run cell\n",
    "\n",
    "This guide has more info [juypter notebook shortcuts](https://towardsdatascience.com/jypyter-notebook-shortcuts-bf0101a98330) or press `H` in command mode"
   ]
  },
  {
   "cell_type": "markdown",
   "id": "e4c03958",
   "metadata": {},
   "source": [
    "# Introduction to Markdown\n",
    "Markdown is used to annotate your code and provide more information.\n",
    "There aren't strictly required but are helpful for documenting your progress.\n",
    "\n",
    "Here are some useful markdown \n",
    "\n",
    "```\n",
    "# Heading 1\n",
    "## Heading 2\n",
    "\n",
    "**bold**\n",
    "*italicized*\n",
    "\n",
    "List\n",
    "- Ele 1 \n",
    "- Ele 2\n",
    "    - Ele 2.1\n",
    "- Ele 1\n",
    "\n",
    "Links  \n",
    "[Name of Link](Link)\n",
    "\n",
    "Styling for Code  \n",
    "`variable/code`\n",
    "```\n",
    "\n",
    "P.S. Notice that we need two spaces to create a new line  \n",
    "The code above will generate the following below:\n",
    "\n",
    "# Heading 1\n",
    "## Heading 2\n",
    "\n",
    "**bold**\n",
    "*italicized*\n",
    "\n",
    "List\n",
    "- Ele 1 \n",
    "- Ele 2\n",
    "    - Ele 2.1\n",
    "- Ele 1\n",
    "\n",
    "Links  \n",
    "[Name of Link](Link)\n",
    "\n",
    "Styling for Code  \n",
    "\n",
    "`variable/code`\n",
    "\n",
    "\n",
    "This guide has more information on markdown syntax [markdown guide](https://www.markdownguide.org/basic-syntax/)"
   ]
  },
  {
   "cell_type": "markdown",
   "id": "8f1f0c22",
   "metadata": {},
   "source": [
    "# **TODO: Write some markdown in this cell with details about your research project**"
   ]
  },
  {
   "cell_type": "markdown",
   "id": "894d6ee5",
   "metadata": {},
   "source": [
    "# Why Python?\n",
    "\n",
    "Python is a general purpose programming language used for data science.\n",
    "Juypter Notebooks allows Python to be ran in distinct blocks\n",
    "\n",
    "We will use Pandas, which is a general purpose packages used for data analysis.  \n",
    "Since it is general purpose, it tends to allow easier integrates with other pre-existing packages (e.g. Scikit-Learn)"
   ]
  },
  {
   "cell_type": "markdown",
   "id": "dbf3d6b9",
   "metadata": {},
   "source": [
    "Arithmetic Operations\n",
    "```python\n",
    "a = 5 \n",
    "b = 3 \n",
    "a + b # 5 + 3 = 8\n",
    "a - b # 5 - 3 = 2\n",
    "a * b # 5 * 3 = 15\n",
    "a % b # 5 % 3 = 2\n",
    "a ** b # 5^3 = 125\n",
    "```\n",
    "\n",
    "Logical Operators\n",
    "```python\n",
    "a = True\n",
    "b = False\n",
    "a & b # true AND false = false\n",
    "a | b # true OR false = true\n",
    "a == b # true equals false = false\n",
    "```"
   ]
  },
  {
   "cell_type": "code",
   "execution_count": null,
   "id": "e76aa6d8",
   "metadata": {},
   "outputs": [],
   "source": [
    "a = True\n",
    "b = False\n",
    "a & b # true AND false = false"
   ]
  },
  {
   "cell_type": "code",
   "execution_count": null,
   "id": "ce26cfa7",
   "metadata": {},
   "outputs": [],
   "source": [
    "# If Statements\n",
    "variable = 50\n",
    "if (variable > 10):\n",
    "    print('greater than 10')\n",
    "else:\n",
    "    print('less than 10')\n",
    "        "
   ]
  },
  {
   "cell_type": "code",
   "execution_count": null,
   "id": "e98845d0",
   "metadata": {},
   "outputs": [],
   "source": [
    "# i is [0, 5)\n",
    "for i in range(0, 5):\n",
    "    print(i)"
   ]
  },
  {
   "cell_type": "code",
   "execution_count": null,
   "id": "c7f9776e",
   "metadata": {},
   "outputs": [],
   "source": [
    "list = ['math', 'physics', 'astronomy','chemistry', 'biology', 'astrology', 'alchemy']\n",
    "for ele in list:\n",
    "    print(ele)"
   ]
  },
  {
   "cell_type": "code",
   "execution_count": null,
   "id": "ad8b5e6d",
   "metadata": {},
   "outputs": [],
   "source": [
    "for index, ele in enumerate(list):\n",
    "    print(index, ele)"
   ]
  },
  {
   "cell_type": "code",
   "execution_count": null,
   "outputs": [],
   "source": [
    "# Access Multi-dimension arrays/lists\n",
    "matrix = [\n",
    "    [1, 2, 3],\n",
    "    [4, 5, 6],\n",
    "    [7, 8, 9]\n",
    "]\n",
    "print(matrix[0][0])"
   ],
   "metadata": {
    "collapsed": false
   },
   "id": "9a022296aabc69ba"
  },
  {
   "cell_type": "code",
   "execution_count": null,
   "outputs": [],
   "source": [
    "# Access sections of a list \n",
    "# : is a special expression\n",
    "# Use to access list like so [start:end:steps]\n",
    "list = [0, 1, 2, 3, 4, 5]\n",
    "print(list[1:3]) # print index [1, 3)\n",
    "print(list[1:5:2]) # prints indices [1, 3, 5)"
   ],
   "metadata": {
    "collapsed": false
   },
   "id": "d945b26e4de479a5"
  },
  {
   "cell_type": "markdown",
   "id": "111ac96b",
   "metadata": {},
   "source": [
    "# TODO: Create a loop that plays the game fizzbuzz\n",
    "- If number is divisble by 3, print fizz\n",
    "- If number is divisible by 5, print buzz\n",
    "- If number is divisible by both, print fizzbuzz (one line)\n",
    "- Otherwise, print the number\n",
    "\n",
    "Here is an example\n",
    "```text\n",
    "1\n",
    "2 \n",
    "fizz\n",
    "4\n",
    "Buzz\n",
    "Fizz \n",
    "7\n",
    "8\n",
    "Fizz\n",
    "Buzz\n",
    "11\n",
    "Fizz\n",
    "13 \n",
    "14 \n",
    "FizzBuzz\n",
    "16\n",
    "17\n",
    "Fizz\n",
    "19\n",
    "Buzz\n",
    "```"
   ]
  },
  {
   "cell_type": "code",
   "execution_count": 3,
   "id": "6190183d",
   "metadata": {
    "ExecuteTime": {
     "end_time": "2023-09-05T06:54:39.344534950Z",
     "start_time": "2023-09-05T06:54:39.314057160Z"
    }
   },
   "outputs": [
    {
     "name": "stdout",
     "output_type": "stream",
     "text": [
      "1\n",
      "2\n",
      "Fizz\n",
      "4\n",
      "Buzz\n",
      "Fizz\n",
      "7\n",
      "8\n",
      "Fizz\n",
      "Buzz\n",
      "11\n",
      "Fizz\n",
      "13\n",
      "14\n",
      "FizzBuzz\n",
      "16\n",
      "17\n",
      "Fizz\n",
      "19\n",
      "Buzz\n",
      "Fizz\n",
      "22\n",
      "23\n",
      "Fizz\n",
      "Buzz\n",
      "26\n",
      "Fizz\n",
      "28\n",
      "29\n"
     ]
    }
   ],
   "source": [
    "# Put your code here\n",
    "for i in range(1, 30):\n",
    "    if (i % 3 == 0) & (i % 5 == 0):\n",
    "        print('FizzBuzz')\n",
    "    elif i % 3 == 0: \n",
    "        print('Fizz')\n",
    "    elif i % 5 == 0:\n",
    "        print('Buzz')\n",
    "    else:\n",
    "        print(i)"
   ]
  },
  {
   "cell_type": "markdown",
   "id": "82731a8163a69f10",
   "metadata": {},
   "source": [
    "## Importing Data\n",
    "Lets start off with analysis some data that I used in my project "
   ]
  },
  {
   "cell_type": "code",
   "execution_count": 6,
   "id": "ac7e05f881144107",
   "metadata": {
    "ExecuteTime": {
     "end_time": "2023-09-05T06:55:23.767453458Z",
     "start_time": "2023-09-05T06:55:22.695636021Z"
    }
   },
   "outputs": [],
   "source": [
    "# Importing relevant packages that I will use\n",
    "import pandas as pd # Data Analytic Library\n",
    "import matplotlib.pyplot as plt # Data Visualiation Library\n",
    "import numpy as np # Package for mathematical computing\n",
    "from astropy.table import Table # Astropy works with .fits files"
   ]
  },
  {
   "cell_type": "markdown",
   "id": "7854168bff0aa1dd",
   "metadata": {},
   "source": [
    "Import a fits file and converting it to Pandas data frame\n",
    "- I am using a trimmed down version of Galah Data Release 4 \n",
    "- More information on this can be found on the [galah-survey](https://www.galah-survey.org/dr3/using_the_data/#recommended-columns) website"
   ]
  },
  {
   "cell_type": "code",
   "execution_count": 7,
   "id": "aa1744ae2d4c6bd3",
   "metadata": {
    "ExecuteTime": {
     "end_time": "2023-09-05T06:55:24.109859759Z",
     "start_time": "2023-09-05T06:55:23.871389105Z"
    }
   },
   "outputs": [],
   "source": [
    "# Imports the data that we will be using\n",
    "glh = Table.read(\"data/galah_dr4_trimmed.fits\", format=\"fits\", hdu=1)\n",
    "names = [name for name in glh.colnames if len(glh[name].shape) <= 1]\n",
    "glh = glh[names].to_pandas()"
   ]
  },
  {
   "cell_type": "code",
   "execution_count": null,
   "id": "63740970",
   "metadata": {},
   "outputs": [],
   "source": [
    "# Shows the first few elements of your dataset\n",
    "glh.head()"
   ]
  },
  {
   "cell_type": "code",
   "execution_count": null,
   "id": "25bef48b0029057a",
   "metadata": {},
   "outputs": [],
   "source": [
    "# Provides an overview of the dataset\n",
    "glh"
   ]
  },
  {
   "cell_type": "code",
   "execution_count": null,
   "id": "e960c8d838f55f9c",
   "metadata": {},
   "outputs": [],
   "source": [
    "glh.columns.values"
   ]
  },
  {
   "cell_type": "code",
   "execution_count": null,
   "outputs": [],
   "source": [
    "# 5000 stars (rows)\n",
    "# Each star has 187 parameters (columns)\n",
    "glh.shape"
   ],
   "metadata": {
    "collapsed": false
   },
   "id": "2778704f594b3e93"
  },
  {
   "cell_type": "markdown",
   "id": "c7765230",
   "metadata": {},
   "source": [
    "### Indexing and Accessing Data"
   ]
  },
  {
   "cell_type": "code",
   "execution_count": null,
   "id": "ce41bd11",
   "metadata": {},
   "outputs": [],
   "source": [
    "# We can access a specific columns by using brackets and then specifying the columns like so:\n",
    "glh['tmass_id']\n",
    "glh.tmass_id"
   ]
  },
  {
   "cell_type": "code",
   "execution_count": null,
   "id": "260e541a",
   "metadata": {},
   "outputs": [],
   "source": [
    "# We can access multiple columns by using a list [...]\n",
    "glh[['tmass_id', 'ra', 'dec']]"
   ]
  },
  {
   "cell_type": "code",
   "execution_count": null,
   "id": "00a93755",
   "metadata": {},
   "outputs": [],
   "source": [
    "# Conditional Filtering \n",
    "glh[(glh.ra > 0) & (glh.dec < 0)]"
   ]
  },
  {
   "cell_type": "markdown",
   "id": "aeb93e23",
   "metadata": {},
   "source": [
    "# TODO: Figure out how many stars have a metallicity more than 0\n",
    "Recall metallicity is $$ \\Big[ \\frac{Fe}{H} \\Big]$$"
   ]
  },
  {
   "cell_type": "code",
   "execution_count": 12,
   "id": "389ab7ae",
   "metadata": {
    "ExecuteTime": {
     "end_time": "2023-09-05T06:57:39.529775114Z",
     "start_time": "2023-09-05T06:57:39.493855833Z"
    }
   },
   "outputs": [
    {
     "data": {
      "text/plain": "971"
     },
     "execution_count": 12,
     "metadata": {},
     "output_type": "execute_result"
    }
   ],
   "source": [
    "# Put your code in this cell\n",
    "metallicity_greater_than_zero = glh[glh['fe_h'] > 0]\n",
    "\n",
    "len = metallicity_greater_than_zero.shape[0]\n",
    "len\n",
    "# There are 971 stars with metallicity greater than zero"
   ]
  },
  {
   "cell_type": "markdown",
   "id": "409c02e9",
   "metadata": {},
   "source": [
    "# TODO: Filter out stars with the following flags\n",
    "Flags indicate there may be data that is not reliable. (Bitmasks are used if you are curious)\n",
    "These flags should be checked\n",
    "- `flag_sp` to 0\n",
    "- `flag_fe_h` to 0\n",
    "- `flag_x_fe` to 0 (find an element `x` that you are interested and check if there is a flag to remove)"
   ]
  },
  {
   "cell_type": "code",
   "execution_count": 15,
   "id": "3d1596df",
   "metadata": {
    "ExecuteTime": {
     "end_time": "2023-09-05T06:58:24.307143665Z",
     "start_time": "2023-09-05T06:58:24.296190907Z"
    }
   },
   "outputs": [
    {
     "data": {
      "text/plain": "(2598, 187)"
     },
     "execution_count": 15,
     "metadata": {},
     "output_type": "execute_result"
    }
   ],
   "source": [
    "# Put your code in this cell\n",
    "glh_filtered = glh[(glh.flag_sp == 0) & (glh.flag_fe_h == 0)]\n",
    "glh_filtered.shape"
   ]
  },
  {
   "cell_type": "markdown",
   "id": "23473b28",
   "metadata": {},
   "source": [
    "### Editing Data\n",
    "We can add columns to our data by computing using the rest of the columns  \n",
    "Recall that:\n",
    "$$ \\Big[\\frac{C}{N}\\Big] = \\Big[\\frac{C}{Fe}\\Big] - \\Big[\\frac{N}{Fe}\\Big] $$"
   ]
  },
  {
   "cell_type": "code",
   "execution_count": null,
   "outputs": [],
   "source": [
    "# Pandas Dataframes support something called vectorisation, meaning any operation can be done on a whole  "
   ],
   "metadata": {
    "collapsed": false
   },
   "id": "2cfdddb84491f50c"
  },
  {
   "cell_type": "code",
   "execution_count": null,
   "id": "b0bbacc2",
   "metadata": {},
   "outputs": [],
   "source": [
    "# Define Relative Abundance of C/N\n",
    "glh['c_n'] = glh.c_fe - glh.n_fe"
   ]
  },
  {
   "cell_type": "code",
   "execution_count": null,
   "id": "00bd17a5",
   "metadata": {},
   "outputs": [],
   "source": [
    "glh.c_n"
   ]
  },
  {
   "cell_type": "markdown",
   "id": "b4d80a5b",
   "metadata": {},
   "source": [
    "### Graphing Data with Matploblib\n",
    "You can right click to save to .png format to include in your report"
   ]
  },
  {
   "cell_type": "code",
   "execution_count": null,
   "id": "96cdfa4c",
   "metadata": {},
   "outputs": [],
   "source": [
    "# Scatterplot\n",
    "# plt.plot(x, y, additional options)\n",
    "plt.plot(\n",
    "    glh.dec, \n",
    "    glh.ra, \n",
    "    'x',\n",
    "    markersize=2,\n",
    "    color='red',\n",
    "    label='Position'\n",
    ") # Graph each of the data with an x\n",
    "plt.xlabel(\"dec\")\n",
    "plt.ylabel(\"rec\")\n",
    "plt.xlim(-90, 30) # Change the x axis \n",
    "plt.ylim(-10, 250) # Change the y-axis\n",
    "plt.title(\"Position of Stars\")\n",
    "plt.legend()"
   ]
  },
  {
   "cell_type": "code",
   "execution_count": null,
   "id": "5b05b147",
   "metadata": {},
   "outputs": [],
   "source": [
    "# Histogram \n",
    "counts, bins = np.histogram(glh.teff.dropna()) # Not I have removed any NaN, i.e. not-a-number\n",
    "plt.stairs(counts, bins)\n",
    "plt.title(\"Effective Temperature of Stars\")"
   ]
  },
  {
   "cell_type": "markdown",
   "id": "8f36696f",
   "metadata": {},
   "source": [
    "# TODO: Graph Effective Temperature vs Surface Gravity\n",
    "Try to find the main sequence stars graphically  \n",
    "After that, save your graph as .png\n",
    "\n",
    "These commands might be helpful\n",
    "```python\n",
    "plt.gca().invert_yaxis()\n",
    "plt.gca().invert_xaxis()\n",
    "```"
   ]
  },
  {
   "cell_type": "code",
   "execution_count": 17,
   "id": "dd32203c",
   "metadata": {
    "ExecuteTime": {
     "end_time": "2023-09-05T06:59:30.057097494Z",
     "start_time": "2023-09-05T06:59:29.847568793Z"
    }
   },
   "outputs": [
    {
     "data": {
      "text/plain": "<Figure size 640x480 with 1 Axes>",
      "image/png": "[encoded data removed]"
     },
     "metadata": {},
     "output_type": "display_data"
    }
   ],
   "source": [
    "# Put your code here\n",
    "plt.plot(\n",
    "    glh.teff,\n",
    "    glh.logg,\n",
    "    'x',\n",
    "    markersize=2,\n",
    "    color='red',\n",
    "    label='Position'\n",
    ") # Graph each of the data with an x\n",
    "plt.xlabel(\"Effective Temperature\")\n",
    "plt.ylabel(\"Surface Gravity\")\n",
    "plt.title(\"HR Diagram\")\n",
    "plt.legend()\n",
    "\n",
    "plt.gca().invert_yaxis()\n",
    "plt.gca().invert_xaxis()\n",
    "# Note the straight-ish line at the bottom is the main sequence line with the giant branch"
   ]
  },
  {
   "cell_type": "markdown",
   "id": "4c17c960",
   "metadata": {},
   "source": [
    "### Export and Importing Data"
   ]
  },
  {
   "cell_type": "code",
   "execution_count": null,
   "id": "4ca0981b",
   "metadata": {},
   "outputs": [],
   "source": [
    "head = glh.head()\n",
    "head"
   ]
  },
  {
   "cell_type": "code",
   "execution_count": null,
   "id": "e954d111",
   "metadata": {},
   "outputs": [],
   "source": [
    "head.to_csv('data/test.csv', index=False)"
   ]
  },
  {
   "cell_type": "code",
   "execution_count": null,
   "id": "86609697",
   "metadata": {},
   "outputs": [],
   "source": [
    "new_head = pd.read_csv('data/test.csv')\n",
    "new_head"
   ]
  },
  {
   "cell_type": "markdown",
   "id": "b29c6bde",
   "metadata": {},
   "source": [
    "### Exporting LaTeX Tabl;es\n",
    "We can export tables for use in LaTeX to use in your reports"
   ]
  },
  {
   "cell_type": "code",
   "execution_count": null,
   "id": "e76f3154",
   "metadata": {},
   "outputs": [],
   "source": [
    "glh.head()[['tmass_id', 'ra', 'dec']]"
   ]
  },
  {
   "cell_type": "code",
   "execution_count": null,
   "id": "ffc990f3",
   "metadata": {},
   "outputs": [],
   "source": [
    "glh.head()[['tmass_id', 'ra', 'dec']].to_latex(index=False)"
   ]
  },
  {
   "cell_type": "markdown",
   "id": "9bc7070f",
   "metadata": {},
   "source": [
    "# Advice for Coding\n",
    "- Name your variables something sensible\n",
    "    - variables names like `a` is short and easy to type but won't mean much to someone else\n",
    "    - instead, try giving more descriptive names or abbreviations e.g. `glh` is an abbreviation for Galah\n",
    "- Version Control\n",
    "    - Make sure to save your data periodically\n",
    "    - You don't want to have to redo hours of work if you mess something up\n",
    "- Project Structure\n",
    "    - Make sure to include folders and sub-folders\n",
    "        - A folder for processed data vs raw data\n",
    "        - Have a folder for figures  \n",
    "    - Make different Juypter Notebooks for different purposes (e.g. 1 for data cleaning, one for ML etc)\n",
    "- Coding \n",
    "    - Google is your friend\n",
    "    - Reading documentation for 5 minutes is probably better than 1hr of trial and error\n",
    "    - Research as you go\n",
    "    - Variables are your friend\n",
    "        - Define so you can change as little code as possible\n",
    "        - E.g. put all your imports at the top of your file\n",
    " \n",
    "# Task\n",
    "- Get started with your project\n",
    "   - Create a new Juypter Notebook and import the data\n",
    "   - Figure out what type of data you are working with\n",
    "   - Graph some data to see if you can find any relationships"
   ]
  }
 ],
 "metadata": {
  "kernelspec": {
   "display_name": "Python 3 (ipykernel)",
   "language": "python",
   "name": "python3"
  },
  "language_info": {
   "codemirror_mode": {
    "name": "ipython",
    "version": 3
   },
   "file_extension": ".py",
   "mimetype": "text/x-python",
   "name": "python",
   "nbconvert_exporter": "python",
   "pygments_lexer": "ipython3",
   "version": "3.10.12"
  }
 },
 "nbformat": 4,
 "nbformat_minor": 5
}
